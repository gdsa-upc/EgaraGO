{
 "cells": [
  {
   "cell_type": "markdown",
   "metadata": {},
   "source": [
    "# Main Sessió 4"
   ]
  },
  {
   "cell_type": "code",
   "execution_count": null,
   "metadata": {
    "collapsed": true
   },
   "outputs": [],
   "source": [
    "import os\n",
    "os.chdir('C:\\Users\\sergi\\Desktop\\Nueva carpeta')\n",
    "import numpy as np\n",
    "import cPickle as pk\n",
    "from get_local_features import get_local_features\n",
    "from train_codebook import train_codebook\n",
    "from get_assignments import get_assignments\n",
    "from build_bow import build_bow\n",
    "from get_params import get_params\n",
    "import warnings\n",
    "warnings.filterwarnings(\"ignore\")\n",
    "params=get_params()\n",
    "\n",
    "#Obrim el fitxer que conte les ID de les imatges d'entrenament\n",
    "ID=open(os.path.join(params['root'],params['database'],'train','ImageIDs.txt'), 'r')\n",
    "#Extraccio de les caracteristiques de la imatge de la primera linia del ImageIDs.txt\n",
    "nom=str(ID.readline()).replace('\\n','')\n",
    "desc_train=get_local_features(params,os.path.join(params['root'],params['database'],'train','images',nom + '.jpg'))\n",
    "#Extraccio de les caracteristiques per a la resta de les imatges d'entrenament\n",
    "dictrain=dict()\n",
    "dictrain[nom]=desc_train\n",
    "for line in ID:\n",
    "    nom=str(line).replace('\\n','')\n",
    "    x=get_local_features(params,os.path.join(params['root'],params['database'],'train','images',nom + '.jpg'))\n",
    "    #Concatenar les caracteristiques de cada imatge en una numpy array\n",
    "    desc_train=np.concatenate((desc_train,x))\n",
    "    dictrain[nom]=x\n",
    "#Tanquem el fitxer\n",
    "ID.close()\n",
    "\n",
    "#Entrenament del KMeans nomes per a les imatges d'entrenament amb 1024 paraules\n",
    "paraules=1024\n",
    "codebook=train_codebook(params,desc_train,paraules)\n",
    "\n",
    "#Obrim el fitxer que conte les ID de les imatges d'entrenament\n",
    "ID=open(os.path.join(params['root'],params['database'],'train','ImageIDs.txt'), 'r')\n",
    "for line in ID:\n",
    "    nom=str(line).replace('\\n','')\n",
    "    #Calculem les assignacions per les imatges d'entrenament\n",
    "    assignments=get_assignments(dictrain[nom],codebook)\n",
    "    #Creacio del BoW per les imatges d'entrenament i emplenament del diccionari\n",
    "    dictrain[nom]=build_bow(assignments,codebook,paraules)\n",
    "#Tanquem el fitxer\n",
    "ID.close()\n",
    "\n",
    "#Guardem el diccionari amb el BoW de les imatges d'entrenament en l'arxiu \"Features.txt\"\n",
    "bow_train = open (os.path.join(params['root'],params['database'],'train','Features.txt'), 'w')\n",
    "pk.dump(dictrain,bow_train)\n",
    "bow_train.close()\n",
    "\n",
    "#Obrim el fitxer que conté les ID de les imatges de validacio\n",
    "ID = open(os.path.join(params['root'],params['database'],'val','ImageIDs.txt'), 'r')\n",
    "#Creacio del diccionari de les imatges de validacio\n",
    "dicval=dict()\n",
    "for line in ID:\n",
    "    #Extraccio de les caracteristiques per a les imatges de validacio\n",
    "    x=get_local_features(params,os.path.join(params['root'],params['database'],'val','images',str(line).replace('\\n','') + '.jpg'))\n",
    "    #Calculem les assignacions per les imatges de validacio\n",
    "    assignments=get_assignments(x,codebook)\n",
    "    #Creacio del BoW per les imatges de validacio i emplenament del diccionari\n",
    "    dicval[str(line).replace('\\n','')]=build_bow(assignments,codebook,paraules)\n",
    "#Tanquem el fitxer\n",
    "ID.close()\n",
    "\n",
    "#Guardem el diccionari amb el BoW de les imatges de validacio en l'arxiu \"Features.txt\"\n",
    "bow_val = open (os.path.join(params['root'],params['database'],'val','Features.txt'), 'w')\n",
    "pk.dump(dicval,bow_val)\n",
    "bow_val.close()"
   ]
  }
 ],
 "metadata": {
  "anaconda-cloud": {},
  "kernelspec": {
   "display_name": "Python [conda root]",
   "language": "python",
   "name": "conda-root-py"
  },
  "language_info": {
   "codemirror_mode": {
    "name": "ipython",
    "version": 3
   },
   "file_extension": ".py",
   "mimetype": "text/x-python",
   "name": "python",
   "nbconvert_exporter": "python",
   "pygments_lexer": "ipython3",
   "version": "3.5.2"
  }
 },
 "nbformat": 4,
 "nbformat_minor": 1
}
