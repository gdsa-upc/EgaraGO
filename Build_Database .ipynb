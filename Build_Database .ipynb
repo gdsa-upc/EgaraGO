{
 "cells": [
  {
   "cell_type": "code",
   "execution_count": null,
   "metadata": {
    "collapsed": true
   },
   "outputs": [],
   "source": [
    "import os \n",
    "\n",
    "# creem el fitxer on guardarem els noms de les imatges\n",
    "file = open('/home/pablo/Escritorio/GDSA/TerrassaBuildings900/train/Train_IDs','w')\n",
    "\n",
    "\n",
    "# llegir els noms de fitxer del directori \n",
    "filename= os.listdir(r'/home/pablo/Escritorio/GDSA/TerrassaBuildings900/train/images')\n",
    " \n",
    "# escriure\n",
    "for index in range(len(filename)):\n",
    " file.write('{:d}  {}\\n'.format(index, filename[index]))\n",
    " \n",
    "\n",
    "file.close()"
   ]
  },
  {
   "cell_type": "markdown",
   "metadata": {},
   "source": [
    "ASDFFDSA\n"
   ]
  }
 ],
 "metadata": {
  "anaconda-cloud": {},
  "kernelspec": {
   "display_name": "Python [conda root]",
   "language": "python",
   "name": "conda-root-py"
  },
  "language_info": {
   "codemirror_mode": {
    "name": "ipython",
    "version": 3
   },
   "file_extension": ".py",
   "mimetype": "text/x-python",
   "name": "python",
   "nbconvert_exporter": "python",
   "pygments_lexer": "ipython3",
   "version": "3.5.2"
  }
 },
 "nbformat": 4,
 "nbformat_minor": 1
}
