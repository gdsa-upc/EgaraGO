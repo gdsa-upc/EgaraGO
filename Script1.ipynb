{
 "cells": [
  {
   "cell_type": "code",
   "execution_count": null,
   "metadata": {
    "collapsed": true
   },
   "outputs": [],
   "source": [
    "from skimage import data\n",
    "from skimage import transform as tf\n",
    "\n",
    "from skimage.feature import CENSURE\n",
    "\n",
    "from skimage.color import rgb2gray\n",
    "\n",
    "import matplotlib.pyplot as plt\n",
    "\n",
    "img1 = rgb2gray(data.load(r\"/home/pablo/Descargas/foto.jpg\"))\n",
    "\n",
    "tform = tf.AffineTransform(scale=(1.5, 1.5), rotation=0.5,\n",
    "\n",
    "translation=(150, -200))\n",
    "\n",
    "img2 = tf.warp(img1, tform)\n",
    "\n",
    "detector = CENSURE()\n",
    "\n",
    "fig, ax = plt.subplots(nrows=1, ncols=2)\n",
    "\n",
    "plt.gray()\n",
    "\n",
    "detector.detect(img1)\n",
    "\n",
    "ax[0].imshow(img1)\n",
    "\n",
    "ax[0].axis('off')\n",
    "\n",
    "ax[0].scatter(detector.keypoints[:, 1], detector.keypoints[:, 0],\n",
    "\n",
    "2 ** detector.scales, facecolors='none', edgecolors='r')\n",
    "\n",
    "detector.detect(img2)\n",
    "\n",
    "ax[1].imshow(img2)\n",
    "\n",
    "ax[1].axis('off')\n",
    "\n",
    "ax[1].scatter(detector.keypoints[:, 1], detector.keypoints[:, 0],\n",
    "\n",
    "2 ** detector.scales, facecolors='none', edgecolors='r')\n",
    "\n",
    "plt.show()"
   ]
  }
 ],
 "metadata": {
  "anaconda-cloud": {},
  "kernelspec": {
   "display_name": "Python [conda root]",
   "language": "python",
   "name": "conda-root-py"
  },
  "language_info": {
   "codemirror_mode": {
    "name": "ipython",
    "version": 3
   },
   "file_extension": ".py",
   "mimetype": "text/x-python",
   "name": "python",
   "nbconvert_exporter": "python",
   "pygments_lexer": "ipython3",
   "version": "3.5.2"
  }
 },
 "nbformat": 4,
 "nbformat_minor": 1
}
