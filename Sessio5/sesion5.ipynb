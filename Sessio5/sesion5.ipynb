{
 "cells": [
  {
   "cell_type": "markdown",
   "metadata": {},
   "source": [
    "# Sessió 5\n",
    "#### Hem editat la funció get_params i fem import, inclou la definicio dels directoris on tots els arxius estan guardats."
   ]
  },
  {
   "cell_type": "code",
   "execution_count": 5,
   "metadata": {
    "collapsed": false
   },
   "outputs": [],
   "source": [
    "import numpy as np\n",
    "import time\n",
    "# Add the root path (the path above this one) to the pythonpath.\n",
    "#sys.path.insert(0,'../')\n",
    "from params import get_params\n",
    "\n",
    "params = get_params()"
   ]
  },
  {
   "cell_type": "code",
   "execution_count": 9,
   "metadata": {
    "collapsed": false
   },
   "outputs": [
    {
     "name": "stdout",
     "output_type": "stream",
     "text": [
      "Number of clusters: 1024\n",
      "Descriptor type: SIFT\n",
      "Keypoint detector: SIFT\n",
      "Resize dimension: 300\n",
      "Distance metric: euclidean\n"
     ]
    }
   ],
   "source": [
    "print (\"Number of clusters:\", params['descriptor_size'])\n",
    "print (\"Descriptor type:\", params['descriptor_type'])\n",
    "print (\"Keypoint detector:\", params['keypoint_type'])\n",
    "print (\"Resize dimension:\", params['max_size'])\n",
    "print (\"Distance metric:\", params['distance_type'])"
   ]
  },
  {
   "cell_type": "markdown",
   "metadata": {},
   "source": [
    "#### Imprimim els parametres del get_params."
   ]
  },
  {
   "cell_type": "code",
   "execution_count": null,
   "metadata": {
    "collapsed": true
   },
   "outputs": [],
   "source": [
    "import get_features as GF\n",
    "# Make sure that we are using training images only !\n",
    "params['split'] = 'train'\n",
    "\n",
    "t = time.time()\n",
    "X, pca, scaler = GF.stack_features(params)\n",
    "\n",
    "print (\"Done. Time elapsed:\", time.time() - t)\n",
    "print (np.shape(X))"
   ]
  },
  {
   "cell_type": "code",
   "execution_count": null,
   "metadata": {
    "collapsed": true
   },
   "outputs": [],
   "source": [
    "t = time.time()\n",
    "GF.train_codebook(params,X)\n",
    "\n",
    "print \"Done. Time elapsed:\", time.time() - t\n",
    "t = time.time()\n",
    "GF.get_features(params)\n",
    "\n",
    "print \"Done. Time elapsed for training set:\", time.time() - t\n",
    "# Switch to validation set\n",
    "params['split'] = 'val'\n",
    "\n",
    "t = time.time()\n",
    "# Run again\n",
    "GF.get_features(params)\n",
    "\n",
    "print \"Done. Time elapsed for validation set:\", time.time() - t\n",
    "\n",
    "from rank import *\n",
    "\n",
    "t = time.time()\n",
    "rank(params)\n",
    "\n",
    "print \"Done. Time elapsed:\", time.time() - t\n",
    "\n",
    "import eval_rankings as ER\n",
    "\n",
    "ap_list, dict_ = ER.eval_rankings(params)\n",
    "\n",
    "print \"Number of queries:\", len(ap_list)\n",
    "print \"Mean Average Precision\", np.mean(ap_list)\n",
    "\n",
    "for id in dict_.keys():\n",
    "    \n",
    "    if not id == 'desconegut':\n",
    "        # We divide by 10 because it's the number of images per class in the validation set.\n",
    "        print id, dict_[id]/10\n",
    "\n",
    "query_id = '30630-5639-13175'\n",
    "ER.single_eval(params,query_id)\n",
    "\n",
    "query_id = '29429-11804-13780'\n",
    "ER.single_eval(params,query_id)\n",
    "\n",
    "query_id = '11962-11431-11239'\n",
    "ER.single_eval(params,query_id)\n",
    "\n",
    "query_id = '3680-16272-2487'\n",
    "ER.single_eval(params,query_id)"
   ]
  },
  {
   "cell_type": "markdown",
   "metadata": {},
   "source": [
    "#### El script funciona correctament en el Canopy pero en jupyter no."
   ]
  }
 ],
 "metadata": {
  "anaconda-cloud": {},
  "kernelspec": {
   "display_name": "Python [conda root]",
   "language": "python",
   "name": "conda-root-py"
  },
  "language_info": {
   "codemirror_mode": {
    "name": "ipython",
    "version": 3
   },
   "file_extension": ".py",
   "mimetype": "text/x-python",
   "name": "python",
   "nbconvert_exporter": "python",
   "pygments_lexer": "ipython3",
   "version": "3.5.2"
  }
 },
 "nbformat": 4,
 "nbformat_minor": 1
}
